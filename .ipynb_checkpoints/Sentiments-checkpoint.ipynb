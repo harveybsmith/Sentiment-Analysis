{
 "cells": [
  {
   "cell_type": "markdown",
   "metadata": {},
   "source": [
    "# Background"
   ]
  },
  {
   "cell_type": "markdown",
   "metadata": {},
   "source": [
    "\n",
    "Twitter has become a wildly sprawling jungle of information. Somewhere between 350 million and 500 million tweets are estimated to be sent out per day. With such an explosion of data, on Twitter and elsewhere, it becomes more important than ever to tame it in some way, to concisely capture the essence of the data."
   ]
  },
  {
   "cell_type": "markdown",
   "metadata": {},
   "source": [
    "# Method"
   ]
  },
  {
   "cell_type": "markdown",
   "metadata": {},
   "source": [
    "Python script to perform a sentiment analysis of the Twitter activity of various news oulets, and to present some findings visually.\n",
    "\n",
    "The final output provides a visualized summary of the sentiments expressed in Tweets sent out by the following news organizations: BBC, CBS, CNN, Fox, and New York times."
   ]
  },
  {
   "cell_type": "code",
   "execution_count": 1,
   "metadata": {},
   "outputs": [],
   "source": [
    "\n",
    "#dependencies\n",
    "import tweepy\n",
    "import pandas as pd\n",
    "import numpy as np\n",
    "import json\n",
    "import seaborn as sns\n",
    "import matplotlib.pyplot as plt\n",
    "from datetime import datetime, timezone\n",
    "from config import  consumer_key, consumer_secret, access_token, access_token_secret "
   ]
  },
  {
   "cell_type": "code",
   "execution_count": 2,
   "metadata": {},
   "outputs": [],
   "source": [
    "#import vader for sentiment analysis\n",
    "from vaderSentiment.vaderSentiment import SentimentIntensityAnalyzer\n",
    "analyzer = SentimentIntensityAnalyzer()"
   ]
  },
  {
   "cell_type": "code",
   "execution_count": 3,
   "metadata": {},
   "outputs": [],
   "source": [
    "\n",
    "#autheticate#autheti \n",
    "auth = tweepy.OAuthHandler(consumer_key, consumer_secret)\n",
    "auth.set_access_token(access_token, access_token_secret)\n",
    "api = tweepy.API(auth, parser=tweepy.parsers.JSONParser())"
   ]
  },
  {
   "cell_type": "code",
   "execution_count": 4,
   "metadata": {},
   "outputs": [],
   "source": [
    "#make dictionary of twitter SNs, network names, and colors for graphs\n",
    "news_labels = [\"@CNN\", \"@BBCWorld\", \"@CBSNews\", \"@nytimes\", \"@FoxNews\"]\n",
    "colors = ['red', 'blue','lightblue', 'green', 'yellow']"
   ]
  },
  {
   "cell_type": "code",
   "execution_count": 5,
   "metadata": {},
   "outputs": [],
   "source": [
    "#create empty dictionary for data returned from json dump\n",
    "news_dict = {\n",
    "    \"Screen Name\": [],\n",
    "    \"Tweet\": [],\n",
    "    \"Date\": [],\n",
    "    \"Compound Score\": [],\n",
    "    \"Positive Score\": [],\n",
    "    \"Negative Score\": [],\n",
    "    \"Neutral Score\": [],\n",
    "    \"Tweets Ago\": []\n",
    "}"
   ]
  },
  {
   "cell_type": "code",
   "execution_count": 6,
   "metadata": {},
   "outputs": [
    {
     "ename": "TweepError",
     "evalue": "[{'code': 326, 'message': 'To protect our users from spam and other malicious activity, this account is temporarily locked. Please log in to https://twitter.com to unlock your account.'}]",
     "output_type": "error",
     "traceback": [
      "\u001b[0;31m---------------------------------------------------------------------------\u001b[0m",
      "\u001b[0;31mTweepError\u001b[0m                                Traceback (most recent call last)",
      "\u001b[0;32m<ipython-input-6-27bf03d34371>\u001b[0m in \u001b[0;36m<module>\u001b[0;34m()\u001b[0m\n\u001b[1;32m      3\u001b[0m \u001b[0;34m\u001b[0m\u001b[0m\n\u001b[1;32m      4\u001b[0m \u001b[0mtarget_user\u001b[0m \u001b[0;34m=\u001b[0m \u001b[0;34m\"BBCWorld\"\u001b[0m\u001b[0;34m\u001b[0m\u001b[0m\n\u001b[0;32m----> 5\u001b[0;31m \u001b[0mpublic_tweets\u001b[0m \u001b[0;34m=\u001b[0m \u001b[0mapi\u001b[0m\u001b[0;34m.\u001b[0m\u001b[0muser_timeline\u001b[0m\u001b[0;34m(\u001b[0m\u001b[0mtarget_user\u001b[0m\u001b[0;34m,\u001b[0m \u001b[0mcount\u001b[0m\u001b[0;34m=\u001b[0m\u001b[0;36m100\u001b[0m\u001b[0;34m,\u001b[0m \u001b[0mresult_type\u001b[0m\u001b[0;34m=\u001b[0m\u001b[0;34m\"recent\"\u001b[0m\u001b[0;34m,\u001b[0m \u001b[0mmax_id\u001b[0m\u001b[0;34m=\u001b[0m\u001b[0moldest_tweet\u001b[0m\u001b[0;34m)\u001b[0m\u001b[0;34m\u001b[0m\u001b[0m\n\u001b[0m\u001b[1;32m      6\u001b[0m \u001b[0;31m# print(public_tweets)\u001b[0m\u001b[0;34m\u001b[0m\u001b[0;34m\u001b[0m\u001b[0m\n",
      "\u001b[0;32m~/anaconda3/envs/PythonData/lib/python3.6/site-packages/tweepy/binder.py\u001b[0m in \u001b[0;36m_call\u001b[0;34m(*args, **kwargs)\u001b[0m\n\u001b[1;32m    248\u001b[0m             \u001b[0;32mreturn\u001b[0m \u001b[0mmethod\u001b[0m\u001b[0;34m\u001b[0m\u001b[0m\n\u001b[1;32m    249\u001b[0m         \u001b[0;32melse\u001b[0m\u001b[0;34m:\u001b[0m\u001b[0;34m\u001b[0m\u001b[0m\n\u001b[0;32m--> 250\u001b[0;31m             \u001b[0;32mreturn\u001b[0m \u001b[0mmethod\u001b[0m\u001b[0;34m.\u001b[0m\u001b[0mexecute\u001b[0m\u001b[0;34m(\u001b[0m\u001b[0;34m)\u001b[0m\u001b[0;34m\u001b[0m\u001b[0m\n\u001b[0m\u001b[1;32m    251\u001b[0m \u001b[0;34m\u001b[0m\u001b[0m\n\u001b[1;32m    252\u001b[0m     \u001b[0;31m# Set pagination mode\u001b[0m\u001b[0;34m\u001b[0m\u001b[0;34m\u001b[0m\u001b[0m\n",
      "\u001b[0;32m~/anaconda3/envs/PythonData/lib/python3.6/site-packages/tweepy/binder.py\u001b[0m in \u001b[0;36mexecute\u001b[0;34m(self)\u001b[0m\n\u001b[1;32m    232\u001b[0m                     \u001b[0;32mraise\u001b[0m \u001b[0mRateLimitError\u001b[0m\u001b[0;34m(\u001b[0m\u001b[0merror_msg\u001b[0m\u001b[0;34m,\u001b[0m \u001b[0mresp\u001b[0m\u001b[0;34m)\u001b[0m\u001b[0;34m\u001b[0m\u001b[0m\n\u001b[1;32m    233\u001b[0m                 \u001b[0;32melse\u001b[0m\u001b[0;34m:\u001b[0m\u001b[0;34m\u001b[0m\u001b[0m\n\u001b[0;32m--> 234\u001b[0;31m                     \u001b[0;32mraise\u001b[0m \u001b[0mTweepError\u001b[0m\u001b[0;34m(\u001b[0m\u001b[0merror_msg\u001b[0m\u001b[0;34m,\u001b[0m \u001b[0mresp\u001b[0m\u001b[0;34m,\u001b[0m \u001b[0mapi_code\u001b[0m\u001b[0;34m=\u001b[0m\u001b[0mapi_error_code\u001b[0m\u001b[0;34m)\u001b[0m\u001b[0;34m\u001b[0m\u001b[0m\n\u001b[0m\u001b[1;32m    235\u001b[0m \u001b[0;34m\u001b[0m\u001b[0m\n\u001b[1;32m    236\u001b[0m             \u001b[0;31m# Parse the response payload\u001b[0m\u001b[0;34m\u001b[0m\u001b[0;34m\u001b[0m\u001b[0m\n",
      "\u001b[0;31mTweepError\u001b[0m: [{'code': 326, 'message': 'To protect our users from spam and other malicious activity, this account is temporarily locked. Please log in to https://twitter.com to unlock your account.'}]"
     ]
    }
   ],
   "source": [
    "# Print out one news label to get example json \n",
    "oldest_tweet = None\n",
    "\n",
    "target_user = \"BBCWorld\"\n",
    "public_tweets = api.user_timeline(target_user, count=100, result_type=\"recent\", max_id=oldest_tweet)\n",
    "# print(public_tweets) \n"
   ]
  },
  {
   "cell_type": "code",
   "execution_count": null,
   "metadata": {},
   "outputs": [],
   "source": [
    "# Create variable for holding the oldest tweet\n",
    "oldest_tweet = None\n",
    "counter = 1\n",
    "for news_org in news_labels:\n",
    "    # Get all tweets from home feed\n",
    "    public_tweets = api.user_timeline(news_org, count=100, result_type=\"recent\", max_id=oldest_tweet) \n",
    "    \n",
    "    # Loop through all tweets\n",
    "    for tweet in public_tweets:\n",
    "           \n",
    "        # Run Vader Analysis on each tweet\n",
    "        results = analyzer.polarity_scores(tweet[\"text\"])\n",
    "        compound = results[\"compound\"]\n",
    "        pos = results[\"pos\"]\n",
    "        neu = results[\"neu\"]\n",
    "        neg = results[\"neg\"]\n",
    "        date = tweet['created_at'] #time created\n",
    "        convert_date = datetime.strptime(date, \"%a %b %d %H:%M:%S %z %Y\") \n",
    "        tweets = tweet[\"text\"]\n",
    "        name = tweet[\"user\"][\"screen_name\"]\n",
    "\n",
    "       # Add each value to the appropriate list\n",
    "        news_dict[\"Screen Name\"].append(name)\n",
    "        news_dict[\"Tweet\"].append(tweets)\n",
    "        news_dict[\"Compound Score\"].append(compound)\n",
    "        news_dict[\"Positive Score\"].append(pos)\n",
    "        news_dict[\"Negative Score\"].append(neg)\n",
    "        news_dict[\"Neutral Score\"].append(neu)\n",
    "        news_dict[\"Date\"].append(convert_date) \n",
    "        news_dict[\"Tweets Ago\"].append(counter)\n",
    "        counter += 1"
   ]
  },
  {
   "cell_type": "code",
   "execution_count": null,
   "metadata": {},
   "outputs": [],
   "source": [
    "#Create to dataframe type\n",
    "news_df = pd.DataFrame.from_dict(news_dict, orient='index')\n"
   ]
  },
  {
   "cell_type": "code",
   "execution_count": null,
   "metadata": {},
   "outputs": [],
   "source": [
    "news_tweets = news_df.transpose()\n",
    "news_tweets.head()"
   ]
  },
  {
   "cell_type": "code",
   "execution_count": null,
   "metadata": {},
   "outputs": [],
   "source": [
    "news_tweets.to_csv('news_analysis.csv')  # output csv"
   ]
  },
  {
   "cell_type": "code",
   "execution_count": null,
   "metadata": {},
   "outputs": [],
   "source": [
    "# for i in np.arange(0,len(news_labels)):\n",
    "#     # Get the name of the news source, i.e., BBC \n",
    "#     news_source = news_tweets.loc[news_dfs[\"Screen Name\"]==news_labels[i]]\n",
    "#     # Now get the integers 0-100 of the tweets from the news source\n",
    "#     news_source = news_source.sort_values(\"Tweets Ago\")\n",
    "#     # Build the scatter plot\n",
    "#     plt.scatter(np.arange(len(news_source[\"Compound Score\"])), \n",
    "#             # Set the Compound Score to a color and add the news source to the label. \n",
    "#             news_source[\"Compound Score\"], color = colors[i],\n",
    "#             edgecolor=\"black\", linewidths=1, marker=\"o\",\n",
    "#             alpha=0.8,label = news_labels[i])\n",
    "\n",
    "colors = ['red', 'blue','lightblue', 'green', 'yellow']\n",
    "\n",
    "# Create plot\n",
    "x_vals = news_tweets[\"Tweets Ago\"]\n",
    "y_vals = news_tweets[\"Compound Score\"]\n",
    "plt.scatter(x_vals,\n",
    "         y_vals, marker=\"o\", color = colors,\n",
    "         alpha=0.8)\n",
    "\n",
    "# # Incorporate the other graph properties\n",
    "now = datetime.now()\n",
    "now = now.strftime(\"%Y-%m-%d %H:%M\")\n",
    "plt.title(f\"Sentiment Analysis of Media Tweets ({now})\")\n",
    "# plt.xlim([x_vals.max(),x_vals.min()]) #Bonus\n",
    "plt.ylabel(\"Tweet Polarity\")\n",
    "plt.xlabel(\"Tweets Ago\")\n",
    "plt.savefig('tweets_scatter.png', bbox_inches = 'tight')\n",
    "plt.show()"
   ]
  },
  {
   "cell_type": "code",
   "execution_count": 12,
   "metadata": {},
   "outputs": [
    {
     "data": {
      "text/plain": [
       "Screen Name       object\n",
       "Tweet             object\n",
       "Date              object\n",
       "Compound Score    object\n",
       "Positive Score    object\n",
       "Negative Score    object\n",
       "Neutral Score     object\n",
       "Tweets Ago        object\n",
       "dtype: object"
      ]
     },
     "execution_count": 12,
     "metadata": {},
     "output_type": "execute_result"
    }
   ],
   "source": [
    "news_tweets.dtypes"
   ]
  },
  {
   "cell_type": "code",
   "execution_count": 13,
   "metadata": {},
   "outputs": [],
   "source": [
    "news_tweets[\"Compound Score\"] = news_tweets[\"Compound Score\"].astype(str).astype(float)"
   ]
  },
  {
   "cell_type": "code",
   "execution_count": 14,
   "metadata": {},
   "outputs": [
    {
     "name": "stdout",
     "output_type": "stream",
     "text": [
      "Screen Name\n",
      "BBCWorld   -0.025938\n",
      "CBSNews    -0.081043\n",
      "CNN         0.118306\n",
      "FoxNews     0.008592\n",
      "nytimes     0.072044\n",
      "Name: Compound Score, dtype: float64\n"
     ]
    },
    {
     "data": {
      "image/png": "[encoded data removed]",
      "text/plain": [
       "<matplotlib.figure.Figure at 0x1a15d99668>"
      ]
     },
     "metadata": {},
     "output_type": "display_data"
    }
   ],
   "source": [
    "\n",
    "# group by SN and find average of each group# group b \n",
    "scores_by_org = news_tweets.groupby('Screen Name')['Compound Score'].mean()\n",
    "print(scores_by_org)\n",
    "\n",
    "# bar chart of mean scores labels\n",
    "plt.title('Average Sentiment of the Last 100 Tweets of Popular News Outlets \\n Samples taken from %s' % (date))\n",
    "plt.xlabel('News Network')\n",
    "plt.ylabel('Average Polarity Score')\n",
    "\n",
    "# list from group by network\n",
    "xlabels = scores_by_org.index\n",
    "# location of each bar\n",
    "xvals = np.arange(len(scores_by_org))\n",
    "y_min = -1.0\n",
    "y_max = 0.4\n",
    "count = 0 # for x coord location of value label\n",
    "\n",
    "#create each value label\n",
    "for score in scores_by_org: \n",
    "    if score < 0: #for neg scores, put label under\n",
    "        height = score - .01\n",
    "    else: # for + scores, put label above\n",
    "        height = score + .01\n",
    "    plt.text(count, height, str(round(score, 2)), ha = 'center', va = 'center')\n",
    "    count += 1\n",
    "plt.bar(xvals, \n",
    "        scores_by_org, \n",
    "        color = colors, # sets colors from news_labels dict from xlabel list\n",
    "        tick_label = news_labels)\n",
    "plt.savefig('average_scores.png')\n",
    "plt.show()"
   ]
  },
  {
   "cell_type": "code",
   "execution_count": null,
   "metadata": {},
   "outputs": [],
   "source": []
  },
  {
   "cell_type": "code",
   "execution_count": null,
   "metadata": {},
   "outputs": [],
   "source": []
  },
  {
   "cell_type": "code",
   "execution_count": null,
   "metadata": {},
   "outputs": [],
   "source": []
  }
 ],
 "metadata": {
  "kernelspec": {
   "display_name": "Python [conda env:PythonData]",
   "language": "python",
   "name": "conda-env-PythonData-py"
  },
  "language_info": {
   "codemirror_mode": {
    "name": "ipython",
    "version": 3
   },
   "file_extension": ".py",
   "mimetype": "text/x-python",
   "name": "python",
   "nbconvert_exporter": "python",
   "pygments_lexer": "ipython3",
   "version": "3.6.4"
  }
 },
 "nbformat": 4,
 "nbformat_minor": 2
}
